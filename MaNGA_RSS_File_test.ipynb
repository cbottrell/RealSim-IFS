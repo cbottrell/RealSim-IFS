{
 "cells": [
  {
   "cell_type": "code",
   "execution_count": 1,
   "metadata": {},
   "outputs": [],
   "source": [
    "import os,sys,time\n",
    "import matplotlib.pyplot as plt\n",
    "import numpy as np\n",
    "from astropy.io import fits\n",
    "from shutil import copy as cp\n",
    "from glob import glob\n",
    "import RealSim_IFS"
   ]
  },
  {
   "cell_type": "markdown",
   "metadata": {},
   "source": [
    "## Information on SDSS-IV MaNGA data\n",
    "\n",
    "Data Access: https://www.sdss.org/dr16/manga/manga-data/data-access/ \n",
    "\n",
    "Data Model: https://www.sdss.org/dr14/manga/manga-data/data-model/\n",
    "\n",
    "In this test, I download a MaNGA `RSS` file (row-reduced spectra) and generate a cube using `RealSim-IFS`. I then compare the output with the MaNGA DRP `CUBE` for the same object. The output should be similar apart from factors such as astrometric corrections, differential atmospheric refraction (DAR), which are accounted for to ~0.1 arcsec accuracy by the MaNGA DRP."
   ]
  },
  {
   "cell_type": "code",
   "execution_count": 2,
   "metadata": {},
   "outputs": [
    {
     "name": "stdout",
     "output_type": "stream",
     "text": [
      "/localscratch/bottrell.35584111.0\n"
     ]
    }
   ],
   "source": [
    "if 'SLURM_TMPDIR' in [key for key in os.environ.keys()]:\n",
    "    wdir = os.environ['SLURM_TMPDIR']\n",
    "    os.chdir(wdir)\n",
    "    print(os.getcwd())"
   ]
  },
  {
   "cell_type": "code",
   "execution_count": 29,
   "metadata": {},
   "outputs": [
    {
     "name": "stdout",
     "output_type": "stream",
     "text": [
      "1432.5272483825684\n"
     ]
    }
   ],
   "source": [
    "\n",
    "sas_base_dir = 'rsync://data.sdss.org/dr16/manga/spectro/redux/v2_4_3'\n",
    "\n",
    "plate = 7443\n",
    "ifudesign = 12703\n",
    "\n",
    "filename = 'manga-{PLATE}-{IFUDESIGN}-LINRSS.fits.gz'.format(PLATE=plate,IFUDESIGN=ifudesign)\n",
    "target_url = '{}/{}/stack/{}'.format(sas_base_dir,plate,filename)\n",
    "\n",
    "\n",
    "if not os.access(filename,0):\n",
    "    rsync_cmd = 'rsync -avz --info=progress2 {} ./{}'.format(target_url,filename)\n",
    "    start = time.time()\n",
    "    os.system(rsync_cmd)\n",
    "    print(time.time()-start)\n",
    "   "
   ]
  },
  {
   "cell_type": "code",
   "execution_count": 30,
   "metadata": {},
   "outputs": [
    {
     "name": "stdout",
     "output_type": "stream",
     "text": [
      "23.866666666666667\n"
     ]
    }
   ],
   "source": []
  },
  {
   "cell_type": "code",
   "execution_count": null,
   "metadata": {},
   "outputs": [],
   "source": []
  }
 ],
 "metadata": {
  "kernelspec": {
   "display_name": "Python 3",
   "language": "python",
   "name": "python3"
  },
  "language_info": {
   "codemirror_mode": {
    "name": "ipython",
    "version": 3
   },
   "file_extension": ".py",
   "mimetype": "text/x-python",
   "name": "python",
   "nbconvert_exporter": "python",
   "pygments_lexer": "ipython3",
   "version": "3.7.4"
  }
 },
 "nbformat": 4,
 "nbformat_minor": 4
}

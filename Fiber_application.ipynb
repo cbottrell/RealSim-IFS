{
 "cells": [
  {
   "cell_type": "code",
   "execution_count": 1,
   "metadata": {},
   "outputs": [],
   "source": [
    "import os,sys\n",
    "import numpy as np\n",
    "import matplotlib.pyplot as plt\n",
    "from matplotlib.patches import Circle"
   ]
  },
  {
   "cell_type": "code",
   "execution_count": 39,
   "metadata": {},
   "outputs": [
    {
     "name": "stdout",
     "output_type": "stream",
     "text": [
      "6 5\n",
      "(48, 40)\n"
     ]
    },
    {
     "ename": "ValueError",
     "evalue": "could not broadcast input array from shape (48,40) into shape (40,48)",
     "output_type": "error",
     "traceback": [
      "\u001b[0;31m---------------------------------------------------------------------------\u001b[0m",
      "\u001b[0;31mValueError\u001b[0m                                Traceback (most recent call last)",
      "\u001b[0;32m<ipython-input-39-cd4a5b8a5fb0>\u001b[0m in \u001b[0;36m<module>\u001b[0;34m\u001b[0m\n\u001b[1;32m     35\u001b[0m \u001b[0;34m\u001b[0m\u001b[0m\n\u001b[1;32m     36\u001b[0m \u001b[0mmaskr_test\u001b[0m \u001b[0;34m=\u001b[0m \u001b[0mnp\u001b[0m\u001b[0;34m.\u001b[0m\u001b[0mzeros\u001b[0m\u001b[0;34m(\u001b[0m\u001b[0;34m(\u001b[0m\u001b[0msize_y\u001b[0m\u001b[0;34m*\u001b[0m\u001b[0mrfactor\u001b[0m\u001b[0;34m,\u001b[0m\u001b[0msize_x\u001b[0m\u001b[0;34m*\u001b[0m\u001b[0mrfactor\u001b[0m\u001b[0;34m)\u001b[0m\u001b[0;34m)\u001b[0m\u001b[0;34m\u001b[0m\u001b[0;34m\u001b[0m\u001b[0m\n\u001b[0;32m---> 37\u001b[0;31m \u001b[0mmaskr_test\u001b[0m\u001b[0;34m[\u001b[0m\u001b[0mrow_min\u001b[0m\u001b[0;34m*\u001b[0m\u001b[0mrfactor\u001b[0m\u001b[0;34m:\u001b[0m\u001b[0mrow_max\u001b[0m\u001b[0;34m*\u001b[0m\u001b[0mrfactor\u001b[0m\u001b[0;34m,\u001b[0m\u001b[0mcol_min\u001b[0m\u001b[0;34m*\u001b[0m\u001b[0mrfactor\u001b[0m\u001b[0;34m:\u001b[0m\u001b[0mcol_max\u001b[0m\u001b[0;34m*\u001b[0m\u001b[0mrfactor\u001b[0m\u001b[0;34m]\u001b[0m \u001b[0;34m=\u001b[0m \u001b[0mmaskr\u001b[0m\u001b[0;34m\u001b[0m\u001b[0;34m\u001b[0m\u001b[0m\n\u001b[0m\u001b[1;32m     38\u001b[0m \u001b[0;34m\u001b[0m\u001b[0m\n\u001b[1;32m     39\u001b[0m \u001b[0;34m\u001b[0m\u001b[0m\n",
      "\u001b[0;31mValueError\u001b[0m: could not broadcast input array from shape (48,40) into shape (40,48)"
     ]
    }
   ],
   "source": [
    "data = np.ones((10,10,5))\n",
    "data_shape = data.shape\n",
    "size_y,size_x = data_shape[0],data_shape[1]\n",
    "\n",
    "Y,X = np.mgrid[0:size_x,0:size_y]\n",
    "\n",
    "core_diameter_pixels = 4.3\n",
    "core_x_pixels = np.random.uniform(low=4.3,high=5.7)\n",
    "core_y_pixels = np.random.uniform(low=4.3,high=5.7)\n",
    "\n",
    "weight_map = np.zeros((size_y,size_x)).astype(int)\n",
    "\n",
    "#mask[np.sqrt((X+0.5-core_x_pixels)**2+(Y+0.5-core_y_pixels)**2) > core_diameter_pixels/2.+np.sqrt(2)/2] = 1\n",
    "core_radius_pixels = core_diameter_pixels/2\n",
    "\n",
    "weight_map[(np.abs(X+0.5-core_x_pixels)<core_radius_pixels+0.5) * (np.abs(Y+0.5-core_y_pixels)<core_radius_pixels+0.5)] = 1\n",
    "\n",
    "rows,cols = np.argwhere(weight_map).T\n",
    "row_min,row_max = np.min(rows),np.max(rows)+1\n",
    "col_min,col_max = np.min(cols),np.max(cols)+1\n",
    "\n",
    "\n",
    "\n",
    "rfactor = 8\n",
    "rsize_x,rsize_y = col_max-col_min,row_max-row_min\n",
    "print(rsize_x,rsize_y)\n",
    "Yr,Xr = np.ogrid[0:rsize_x*rfactor,0:rsize_y*rfactor]\n",
    "\n",
    "maskr = np.zeros((rsize_x*rfactor,rsize_y*rfactor))\n",
    "\n",
    "test = (Xr-core_x_pixels)**2+(Yr-core_y_pixels)**2\n",
    "print(test.shape)\n",
    "\n",
    "maskr[np.sqrt((Xr+col_min*rfactor+0.5 - core_x_pixels*rfactor)**2 + (Yr+row_min*rfactor+0.5 - core_y_pixels*rfactor)**2) < core_radius_pixels*rfactor ]=1\n",
    "\n",
    "maskr_test = np.zeros((size_y*rfactor,size_x*rfactor))\n",
    "maskr_test[row_min*rfactor:row_max*rfactor,col_min*rfactor:col_max*rfactor] = maskr\n",
    "\n",
    "\n",
    "fig,ax = plt.subplots(figsize=(10,10))\n",
    "ax.imshow(maskr_test,cmap='Greys',origin='lower',extent=(0,size_x,0,size_y))\n",
    "\n",
    "core = Circle(xy=(core_x_pixels,core_y_pixels),radius=core_diameter_pixels/2,\n",
    "              transform=ax.transData,edgecolor='None',facecolor='grey')\n",
    "\n",
    "for i in range(size_x*rfactor):\n",
    "    ax.axvline(i/rfactor)\n",
    "    ax.axhline(i/rfactor)\n",
    "    \n",
    "for i in range(size_x):\n",
    "    ax.axvline(i,color='red')\n",
    "    ax.axhline(i,color='red')\n",
    "ax.add_artist(core)\n"
   ]
  },
  {
   "cell_type": "code",
   "execution_count": 36,
   "metadata": {},
   "outputs": [
    {
     "name": "stdout",
     "output_type": "stream",
     "text": [
      "0\n"
     ]
    }
   ],
   "source": [
    "print(weight_map[2,3])"
   ]
  },
  {
   "cell_type": "code",
   "execution_count": null,
   "metadata": {},
   "outputs": [],
   "source": []
  }
 ],
 "metadata": {
  "kernelspec": {
   "display_name": "Python 3",
   "language": "python",
   "name": "python3"
  },
  "language_info": {
   "codemirror_mode": {
    "name": "ipython",
    "version": 3
   },
   "file_extension": ".py",
   "mimetype": "text/x-python",
   "name": "python",
   "nbconvert_exporter": "python",
   "pygments_lexer": "ipython3",
   "version": "3.7.4"
  }
 },
 "nbformat": 4,
 "nbformat_minor": 2
}
